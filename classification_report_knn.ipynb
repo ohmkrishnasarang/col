{
  "nbformat": 4,
  "nbformat_minor": 0,
  "metadata": {
    "colab": {
      "provenance": [],
      "authorship_tag": "ABX9TyP1wKBiCKkbCxlHBfKz3Imp",
      "include_colab_link": true
    },
    "kernelspec": {
      "name": "python3",
      "display_name": "Python 3"
    },
    "language_info": {
      "name": "python"
    }
  },
  "cells": [
    {
      "cell_type": "markdown",
      "metadata": {
        "id": "view-in-github",
        "colab_type": "text"
      },
      "source": [
        "<a href=\"https://colab.research.google.com/github/ohmkrishnasarang/col/blob/main/classification_report_knn.ipynb\" target=\"_parent\"><img src=\"https://colab.research.google.com/assets/colab-badge.svg\" alt=\"Open In Colab\"/></a>"
      ]
    },
    {
      "cell_type": "code",
      "execution_count": null,
      "metadata": {
        "id": "Dyw7OL9nYgsO"
      },
      "outputs": [],
      "source": [
        "from sklearn.neighbors import KNeighborsClassifier\n",
        "from sklearn.model_selection import train_test_split\n",
        "import pandas as pd\n",
        "df=pd.read_csv(\"./diabetes.csv\")\n",
        "x=df.drop(\"Outcome\",axis =1)\n",
        "y=df[\"Outcome\"]\n",
        "x_train,x_test,y_train,y_test= train_test_split(x,y, test_size=0.2,random_state=42)\n",
        "knn = KNeighborsClassifier (n_neighbors=7)\n",
        "knn.fit(x_train,y_train)\n",
        "y_pred=knn.predict(x_test)\n",
        "from sklearn.metrics import accuracy_score\n",
        "ac= accuracy_score(y_test,y_pred)\n",
        "print(ac)\n",
        "from sklearn.metrics import confusion_matrix\n",
        "from sklearn.metrics import classification_report\n",
        "matrix= confusion_matrix(y_test,y_pred)\n",
        "print(\"confusion matrix: \\n\", matrix)\n",
        "cr=classification_report(y_test,y_pred)\n",
        "print(\"Classification Report in'\\n\",cr)"
      ]
    }
  ]
}