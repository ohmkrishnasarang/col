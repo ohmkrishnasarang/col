{
  "nbformat": 4,
  "nbformat_minor": 0,
  "metadata": {
    "colab": {
      "provenance": [],
      "authorship_tag": "ABX9TyPI91BqGOC9rlfXn7ADxi7W",
      "include_colab_link": true
    },
    "kernelspec": {
      "name": "python3",
      "display_name": "Python 3"
    },
    "language_info": {
      "name": "python"
    }
  },
  "cells": [
    {
      "cell_type": "markdown",
      "metadata": {
        "id": "view-in-github",
        "colab_type": "text"
      },
      "source": [
        "<a href=\"https://colab.research.google.com/github/ohmkrishnasarang/col/blob/main/nltk.ipynb\" target=\"_parent\"><img src=\"https://colab.research.google.com/assets/colab-badge.svg\" alt=\"Open In Colab\"/></a>"
      ]
    },
    {
      "cell_type": "code",
      "execution_count": 2,
      "metadata": {
        "colab": {
          "base_uri": "https://localhost:8080/"
        },
        "id": "mlF5-7ztWjna",
        "outputId": "38028620-6f15-4edc-cb4d-cc422d10df58"
      },
      "outputs": [
        {
          "output_type": "stream",
          "name": "stderr",
          "text": [
            "[nltk_data] Downloading package stopwords to /root/nltk_data...\n",
            "[nltk_data]   Unzipping corpora/stopwords.zip.\n",
            "[nltk_data] Downloading package punkt to /root/nltk_data...\n",
            "[nltk_data]   Unzipping tokenizers/punkt.zip.\n",
            "[nltk_data] Downloading package averaged_perceptron_tagger to\n",
            "[nltk_data]     /root/nltk_data...\n",
            "[nltk_data]   Unzipping taggers/averaged_perceptron_tagger.zip.\n"
          ]
        },
        {
          "output_type": "stream",
          "name": "stdout",
          "text": [
            "[('Hello', 'NNP'), ('.', '.')]\n",
            "[('MCA', 'NNP'), ('S3', 'NNP'), ('fantastic', 'JJ'), ('.', '.')]\n",
            "[('We', 'PRP'), ('learn', 'VBP'), ('many', 'JJ'), ('new', 'JJ'), ('concepts', 'NNS'), ('implement', 'JJ'), ('practical', 'JJ'), ('exams', 'NN'), ('.', '.')]\n",
            "Sentence after removing stopwords: ['The', 'sun', 'rises', 'east']\n",
            "Sentence after removing stopwords: ['The', 'sun', 'rises', 'east']\n",
            "Sentence after removing stopwords: ['The', 'sun', 'rises', 'east']\n"
          ]
        },
        {
          "output_type": "execute_result",
          "data": {
            "text/plain": [
              "['Thesunriseseast']"
            ]
          },
          "metadata": {},
          "execution_count": 2
        }
      ],
      "source": [
        "import nltk\n",
        "from nltk.corpus import stopwords\n",
        "from nltk.tokenize import word_tokenize,sent_tokenize\n",
        "nltk.download('stopwords')\n",
        "nltk.download('punkt')\n",
        "nltk.download('averaged_perceptron_tagger')\n",
        "stop_words = set(stopwords.words('english'))\n",
        "txt =\"Hello. MCA S3 is fantastic. We learn many new concepts and implement them in our practical exams. \"\n",
        "\"Ist of all the data science is a new paper. \"\n",
        "tokenized= sent_tokenize(txt)\n",
        "for i in tokenized:\n",
        " wordsList= nltk.word_tokenize(i)\n",
        " wordsList= [w for w in wordsList if not w in stop_words]\n",
        " tagged = nltk.pos_tag(wordsList)\n",
        " print(tagged)\n",
        "def generate_N_grams(text,ngram=1):\n",
        " words=[word for word in text.split(\" \") if word not in set(stopwords.words('english'))]\n",
        " print(\"Sentence after removing stopwords:\",words)\n",
        " temp=zip(*[words[i:] for i in range(0,ngram)])\n",
        " ans=[''.join(ngram) for ngram in temp]\n",
        " return ans\n",
        "generate_N_grams(\"The sun rises in the east\",2)\n",
        "generate_N_grams(\"The sun rises in the east\",3)\n",
        "generate_N_grams(\"The sun rises in the east\",4)"
      ]
    }
  ]
}